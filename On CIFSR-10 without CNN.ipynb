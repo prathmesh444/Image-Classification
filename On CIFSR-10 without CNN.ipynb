{
 "cells": [
  {
   "cell_type": "code",
   "execution_count": 1,
   "id": "68b4c6a3",
   "metadata": {},
   "outputs": [],
   "source": [
    "import tensorflow as tf\n",
    "from tensorflow import keras\n",
    "import pandas as pd\n",
    "import numpy as np"
   ]
  },
  {
   "cell_type": "code",
   "execution_count": 70,
   "id": "b49414ff",
   "metadata": {},
   "outputs": [],
   "source": [
    "(X_train,y_train), (X_test,y_test) = tf.keras.datasets.cifar10.load_data()"
   ]
  },
  {
   "cell_type": "code",
   "execution_count": 73,
   "id": "adb35368",
   "metadata": {},
   "outputs": [],
   "source": [
    "X_train = X_train/255\n",
    "X_test = X_test/255"
   ]
  },
  {
   "cell_type": "code",
   "execution_count": 65,
   "id": "2bbddffc",
   "metadata": {},
   "outputs": [
    {
     "data": {
      "text/plain": [
       "(50000, 32, 32, 3)"
      ]
     },
     "execution_count": 65,
     "metadata": {},
     "output_type": "execute_result"
    }
   ],
   "source": [
    "X_train.shape"
   ]
  },
  {
   "cell_type": "code",
   "execution_count": 74,
   "id": "0859ebfd",
   "metadata": {},
   "outputs": [
    {
     "data": {
      "text/plain": [
       "(10000, 10)"
      ]
     },
     "execution_count": 74,
     "metadata": {},
     "output_type": "execute_result"
    }
   ],
   "source": [
    "y_train = keras.utils.to_categorical(y_train, num_classes = 10, dtype = 'float32')\n",
    "y_test = keras.utils.to_categorical(y_test, num_classes = 10, dtype = 'float32')\n",
    "y_test.shape"
   ]
  },
  {
   "cell_type": "code",
   "execution_count": 6,
   "id": "5c7ec5a2",
   "metadata": {},
   "outputs": [],
   "source": [
    "model = keras.Sequential([\n",
    "    keras.layers.Flatten(input_shape = (32,32,3)),\n",
    "    keras.layers.Dense(3000, activation = 'relu'),\n",
    "    keras.layers.Dense(1000, activation = 'relu'),\n",
    "    keras.layers.Dense(10, activation = 'sigmoid'),\n",
    "])\n",
    "model.compile( optimizer = 'SGD', loss = 'categorical_crossentropy', metrics = ['accuracy'])"
   ]
  },
  {
   "cell_type": "code",
   "execution_count": 8,
   "id": "b010583d",
   "metadata": {},
   "outputs": [
    {
     "name": "stdout",
     "output_type": "stream",
     "text": [
      "Epoch 1/15\n",
      "1563/1563 [==============================] - 97s 62ms/step - loss: 1.0838 - accuracy: 0.6235\n",
      "Epoch 2/15\n",
      "1563/1563 [==============================] - 123s 79ms/step - loss: 1.0557 - accuracy: 0.6338\n",
      "Epoch 3/15\n",
      "1563/1563 [==============================] - 92s 59ms/step - loss: 1.0323 - accuracy: 0.6414\n",
      "Epoch 4/15\n",
      "1563/1563 [==============================] - 86s 55ms/step - loss: 1.0043 - accuracy: 0.6523\n",
      "Epoch 5/15\n",
      "1563/1563 [==============================] - 90s 58ms/step - loss: 0.9796 - accuracy: 0.6604\n",
      "Epoch 6/15\n",
      "1563/1563 [==============================] - 91s 58ms/step - loss: 0.9536 - accuracy: 0.6680\n",
      "Epoch 7/15\n",
      "1563/1563 [==============================] - 91s 58ms/step - loss: 0.9277 - accuracy: 0.6785\n",
      "Epoch 8/15\n",
      "1563/1563 [==============================] - 99s 64ms/step - loss: 0.9029 - accuracy: 0.6900\n",
      "Epoch 9/15\n",
      "1563/1563 [==============================] - 93s 59ms/step - loss: 0.8741 - accuracy: 0.6994\n",
      "Epoch 10/15\n",
      "1563/1563 [==============================] - 87s 55ms/step - loss: 0.8511 - accuracy: 0.7080\n",
      "Epoch 11/15\n",
      "1563/1563 [==============================] - 102s 65ms/step - loss: 0.8251 - accuracy: 0.7158\n",
      "Epoch 12/15\n",
      "1563/1563 [==============================] - 112s 72ms/step - loss: 0.8010 - accuracy: 0.7249\n",
      "Epoch 13/15\n",
      "1563/1563 [==============================] - 109s 70ms/step - loss: 0.7756 - accuracy: 0.7347\n",
      "Epoch 14/15\n",
      "1563/1563 [==============================] - 98s 63ms/step - loss: 0.7491 - accuracy: 0.7418\n",
      "Epoch 15/15\n",
      "1563/1563 [==============================] - 101s 64ms/step - loss: 0.7262 - accuracy: 0.7515\n"
     ]
    },
    {
     "data": {
      "text/plain": [
       "<keras.callbacks.History at 0x23753a7a610>"
      ]
     },
     "execution_count": 8,
     "metadata": {},
     "output_type": "execute_result"
    }
   ],
   "source": [
    "model.fit(X_train, y_train, epochs = 15)"
   ]
  },
  {
   "cell_type": "code",
   "execution_count": 10,
   "id": "730140ac",
   "metadata": {},
   "outputs": [],
   "source": [
    "classes = [\"airplane\",\"automobile\",\"bird\",\"cat\",\"deer\",\"dog\",\"frog\",\"horse\",\"ship\",\"truck\"]"
   ]
  },
  {
   "cell_type": "code",
   "execution_count": 60,
   "id": "71de14b8",
   "metadata": {},
   "outputs": [
    {
     "name": "stdout",
     "output_type": "stream",
     "text": [
      "313/313 [==============================] - 6s 20ms/step\n"
     ]
    },
    {
     "data": {
      "text/plain": [
       "(10000, 10)"
      ]
     },
     "execution_count": 60,
     "metadata": {},
     "output_type": "execute_result"
    }
   ],
   "source": [
    "y_predicted = model.predict(X_test)\n",
    "y_predicted.shape"
   ]
  },
  {
   "cell_type": "code",
   "execution_count": 68,
   "id": "282d5556",
   "metadata": {},
   "outputs": [
    {
     "data": {
      "text/plain": [
       "(10000, 10, 10)"
      ]
     },
     "execution_count": 68,
     "metadata": {},
     "output_type": "execute_result"
    }
   ],
   "source": [
    "y_result = [np.argmax(i) for i in y_predicted]\n",
    "y_test.shape"
   ]
  },
  {
   "cell_type": "code",
   "execution_count": 71,
   "id": "56092239",
   "metadata": {},
   "outputs": [
    {
     "data": {
      "text/plain": [
       "<tf.Tensor: shape=(10, 10), dtype=int32, numpy=\n",
       "array([[711,  39,  25,   6,  45,  30,  11,  19,  84,  30],\n",
       "       [ 37, 725,  12,   9,  10,  23,   9,  18,  55, 102],\n",
       "       [ 95,  16, 340,  42, 189, 189,  28,  58,  26,  17],\n",
       "       [ 39,  20,  38, 185, 105, 452,  54,  49,  22,  36],\n",
       "       [ 57,   7,  80,  27, 562, 121,  41,  71,  18,  16],\n",
       "       [ 27,   8,  30,  77,  97, 668,  19,  44,  15,  15],\n",
       "       [ 20,  19,  53,  49, 189, 156, 461,  19,  18,  16],\n",
       "       [ 47,  13,  28,  21,  90, 140,   9, 607,   9,  36],\n",
       "       [124,  72,   9,   2,  17,  42,   2,  11, 676,  45],\n",
       "       [ 55, 247,   9,  14,  26,  34,   6,  36,  39, 534]])>"
      ]
     },
     "execution_count": 71,
     "metadata": {},
     "output_type": "execute_result"
    }
   ],
   "source": [
    "cm = tf.math.confusion_matrix(labels = y_test,\n",
    "                              predictions = y_result)\n",
    "cm"
   ]
  },
  {
   "cell_type": "code",
   "execution_count": 76,
   "id": "ad023e52",
   "metadata": {},
   "outputs": [
    {
     "name": "stdout",
     "output_type": "stream",
     "text": [
      "313/313 [==============================] - 6s 19ms/step - loss: 1.3509 - accuracy: 0.5469\n"
     ]
    },
    {
     "data": {
      "text/plain": [
       "[1.3508601188659668, 0.5468999743461609]"
      ]
     },
     "execution_count": 76,
     "metadata": {},
     "output_type": "execute_result"
    }
   ],
   "source": [
    "model.evaluate(X_test,y_test)"
   ]
  }
 ],
 "metadata": {
  "kernelspec": {
   "display_name": "Python 3 (ipykernel)",
   "language": "python",
   "name": "python3"
  },
  "language_info": {
   "codemirror_mode": {
    "name": "ipython",
    "version": 3
   },
   "file_extension": ".py",
   "mimetype": "text/x-python",
   "name": "python",
   "nbconvert_exporter": "python",
   "pygments_lexer": "ipython3",
   "version": "3.9.12"
  }
 },
 "nbformat": 4,
 "nbformat_minor": 5
}
